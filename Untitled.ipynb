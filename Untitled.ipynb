{
 "cells": [
  {
   "cell_type": "code",
   "execution_count": null,
   "metadata": {},
   "outputs": [],
   "source": [
    "import graph as helper"
   ]
  },
  {
   "cell_type": "code",
   "execution_count": null,
   "metadata": {},
   "outputs": [],
   "source": [
    "graph = helper.build_graph(\"./datasets/soc-sign-epinions.tsv\")\n",
    "helper.draw_graph(graph)\n",
    "\n",
    "def calculate_features(graph):\n",
    "    calculate_degrees(graph)\n",
    "    calculate_triads(graph)\n",
    "\n",
    "def calculate_triads(graph):\n",
    "    pass\n",
    "\n",
    "def calculate_degrees(graph):\n",
    "#     nodes_dict = {}\n",
    "#     nodes_dict.keys = all nodes \n",
    "#     value => positive_in = 0 negative_in = 0  positive_out = 0 negative_out = 0 \n",
    "#     for (u,v) in graph.edges():\n",
    "#         if edge.weight == 1:\n",
    "#             dict.u.positive_out +=1\n",
    "#             dict.v.positive_in += 1\n",
    "#         else:\n",
    "#             dict.u.negative_out +=1\n",
    "#             dict.v.negative_in += 1\n",
    "    pass\n",
    "            \n",
    "            "
   ]
  },
  {
   "cell_type": "code",
   "execution_count": null,
   "metadata": {},
   "outputs": [],
   "source": []
  },
  {
   "cell_type": "code",
   "execution_count": null,
   "metadata": {},
   "outputs": [],
   "source": []
  },
  {
   "cell_type": "code",
   "execution_count": null,
   "metadata": {},
   "outputs": [],
   "source": []
  }
 ],
 "metadata": {
  "kernelspec": {
   "display_name": "Python 3",
   "language": "python",
   "name": "python3"
  },
  "language_info": {
   "codemirror_mode": {
    "name": "ipython",
    "version": 3
   },
   "file_extension": ".py",
   "mimetype": "text/x-python",
   "name": "python",
   "nbconvert_exporter": "python",
   "pygments_lexer": "ipython3",
   "version": "3.8.5"
  }
 },
 "nbformat": 4,
 "nbformat_minor": 4
}
