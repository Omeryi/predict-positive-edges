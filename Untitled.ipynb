{
 "cells": [
  {
   "cell_type": "code",
   "execution_count": 1,
   "metadata": {},
   "outputs": [],
   "source": [
    "import networkx as nx \n",
    "from IPython.display import Image"
   ]
  },
  {
   "cell_type": "code",
   "execution_count": null,
   "metadata": {},
   "outputs": [],
   "source": []
  },
  {
   "cell_type": "code",
   "execution_count": null,
   "metadata": {},
   "outputs": [],
   "source": [
    "\n"
   ]
  },
  {
   "cell_type": "code",
   "execution_count": 23,
   "metadata": {},
   "outputs": [],
   "source": [
    "def build_graph(tsv):\n",
    "    graph = nx.DiGraph();\n",
    "    tsv_file = open(tsv, \"r\")\n",
    "    lines = tsv_file.readlines()[:10]\n",
    "    edges = []\n",
    "    # First line contains tsv headers\n",
    "    for line in lines[1:]:\n",
    "        edge_details = line.strip().split('\\t')\n",
    "        graph.add_edge(edge_details[0], edge_details[1])\n",
    "        graph.edges[edge_details[0], edge_details[1]]['weight'] = edge_details[2]\n",
    "        #print(edge_details[0], edge_details[1], edge_details[2])\n",
    "    \n",
    "    graph.add_weighted_edges_from(edges)\n",
    "    \n",
    "        \n",
    "    return graph\n",
    "\n",
    "\n",
    "def draw_graph(g):\n",
    "    d = nx.drawing.nx_pydot.to_pydot(g)\n",
    "    png_str = d.create_png()\n",
    "    img = Image(data=png_str)\n",
    "    display(img)\n",
    "    "
   ]
  },
  {
   "cell_type": "code",
   "execution_count": 24,
   "metadata": {},
   "outputs": [
    {
     "name": "stdout",
     "output_type": "stream",
     "text": [
      "[('0', '1'), ('1', '128552'), ('2', '3'), ('4', '5'), ('4', '155'), ('4', '558'), ('4', '1509'), ('4', '2282'), ('4', '2984')]\n"
     ]
    },
    {
     "data": {
      "text/plain": [
       "OutEdgeView([('0', '1'), ('1', '128552'), ('2', '3'), ('4', '5'), ('4', '155'), ('4', '558'), ('4', '1509'), ('4', '2282'), ('4', '2984')])"
      ]
     },
     "execution_count": 24,
     "metadata": {},
     "output_type": "execute_result"
    }
   ],
   "source": [
    "graph = build_graph(\"./datasets/soc-sign-epinions.tsv\")\n",
    "print(graph.edges())\n",
    "graph.edges()"
   ]
  },
  {
   "cell_type": "code",
   "execution_count": null,
   "metadata": {},
   "outputs": [],
   "source": []
  }
 ],
 "metadata": {
  "kernelspec": {
   "display_name": "Python 3",
   "language": "python",
   "name": "python3"
  },
  "language_info": {
   "codemirror_mode": {
    "name": "ipython",
    "version": 3
   },
   "file_extension": ".py",
   "mimetype": "text/x-python",
   "name": "python",
   "nbconvert_exporter": "python",
   "pygments_lexer": "ipython3",
   "version": "3.7.6"
  }
 },
 "nbformat": 4,
 "nbformat_minor": 4
}
