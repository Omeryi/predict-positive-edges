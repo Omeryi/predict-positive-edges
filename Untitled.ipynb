{
 "cells": [
  {
   "cell_type": "code",
   "execution_count": null,
   "metadata": {},
   "outputs": [],
   "source": [
    "G = nx.create_graph(..)\n",
    "G.add_edge()"
   ]
  },
  {
   "cell_type": "code",
   "execution_count": null,
   "metadata": {},
   "outputs": [],
   "source": [
    "EXPECTED_RES = pd.DataFrame(...)"
   ]
  },
  {
   "cell_type": "code",
   "execution_count": null,
   "metadata": {},
   "outputs": [],
   "source": [
    "assert df1.sort_index().equals(df2.sort_index())"
   ]
  },
  {
   "cell_type": "code",
   "execution_count": null,
   "metadata": {},
   "outputs": [],
   "source": [
    "assert mirror_pairs(G, )"
   ]
  },
  {
   "cell_type": "code",
   "execution_count": 24,
   "metadata": {},
   "outputs": [],
   "source": [
    "import graph\n",
    "from scipy import sparse\n",
    "import networkx as nx\n",
    "import pandas as pd"
   ]
  },
  {
   "cell_type": "code",
   "execution_count": 25,
   "metadata": {},
   "outputs": [],
   "source": [
    "\n",
    "matrix = nx.to_numpy_matrix(G, weight=\"weight\").astype('int')"
   ]
  },
  {
   "cell_type": "code",
   "execution_count": 47,
   "metadata": {},
   "outputs": [
    {
     "name": "stdout",
     "output_type": "stream",
     "text": [
      "[[0 0 0 0 0 0 0 0 0]\n",
      " [0 2 2 0 0 0 0 0 0]\n",
      " [0 2 3 0 0 1 0 0 0]\n",
      " [0 0 0 2 2 0 0 0 1]\n",
      " [0 0 0 2 2 0 0 0 1]\n",
      " [0 0 1 0 0 3 1 1 0]\n",
      " [0 0 0 0 0 1 2 1 1]\n",
      " [0 0 0 0 0 1 1 2 1]\n",
      " [0 0 0 1 1 0 1 1 2]]\n"
     ]
    }
   ],
   "source": [
    "G =graph.build_graph('./datasets/presentation_graph.tsv')\n",
    "A = sparse.csr_matrix(nx.to_numpy_matrix(G, weight=\"weight\"))\n",
    "A[A == -1] = 1\n",
    "B = A + A.T\n",
    "print((B @ B.T).todense().astype('int'))"
   ]
  },
  {
   "cell_type": "code",
   "execution_count": 41,
   "metadata": {},
   "outputs": [
    {
     "name": "stdout",
     "output_type": "stream",
     "text": [
      "  (3, 2)\t1.0\n",
      "  (1, 3)\t1.0\n",
      "  (1, 4)\t1.0\n",
      "  (2, 4)\t1.0\n",
      "  (5, 6)\t1.0\n",
      "  (5, 7)\t1.0\n",
      "  (6, 7)\t1.0\n",
      "  (2, 8)\t1.0\n",
      "  (5, 8)\t1.0\n"
     ]
    }
   ],
   "source": []
  },
  {
   "cell_type": "code",
   "execution_count": null,
   "metadata": {},
   "outputs": [],
   "source": []
  }
 ],
 "metadata": {
  "kernelspec": {
   "display_name": "Python 3",
   "language": "python",
   "name": "python3"
  },
  "language_info": {
   "codemirror_mode": {
    "name": "ipython",
    "version": 3
   },
   "file_extension": ".py",
   "mimetype": "text/x-python",
   "name": "python",
   "nbconvert_exporter": "python",
   "pygments_lexer": "ipython3",
   "version": "3.7.6"
  }
 },
 "nbformat": 4,
 "nbformat_minor": 4
}
