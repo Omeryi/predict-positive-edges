{
 "cells": [
  {
   "cell_type": "markdown",
   "metadata": {},
   "source": [
    "***The following code demonstrates The abilitiy to create and even draw a graph, and calculate features on a small dataset.\n",
    "The usage of small dataset is meant to save runtime and get a clear drawing of the graph:***"
   ]
  },
  {
   "cell_type": "code",
   "execution_count": 1,
   "metadata": {},
   "outputs": [],
   "source": [
    "import numpy as np\n",
    "import graph as helper\n",
    "import features\n",
    "import networkx as nx\n",
    "import pandas as pd\n",
    "from scipy import sparse\n",
    "\n",
    "import scipy as sp\n",
    "from sklearn.linear_model import LogisticRegression\n",
    "from sklearn.model_selection import train_test_split\n",
    "from sklearn.metrics import classification_report\n",
    "\n",
    "import tqdm\n",
    "import random\n",
    "import functools"
   ]
  },
  {
   "cell_type": "code",
   "execution_count": 2,
   "metadata": {},
   "outputs": [],
   "source": [
    "# calculate adj matrix\n",
    "G = helper.build_graph(\"./datasets/wiki-demo-100.tsv\")\n",
    "A = sparse.csr_matrix(nx.to_numpy_matrix(G, weight=\"weight\"))\n",
    "\n",
    "A[A != 0] = 1\n",
    "B = A + A.T\n",
    "maybefixed = B@B.T"
   ]
  },
  {
   "cell_type": "code",
   "execution_count": 3,
   "metadata": {},
   "outputs": [],
   "source": [
    "data = pd.read_csv(\"wiki-features-100-lines-v2\", sep =\"\\t\").rename(columns={'Unnamed: 0': 'K'})\n",
    "\n",
    "X_train, X_test, y_train, y_test = train_test_split(data.drop('edge_sign', axis=1), data['edge_sign'],\n",
    "                     test_size=0.10, random_state=101)"
   ]
  },
  {
   "cell_type": "code",
   "execution_count": 9,
   "metadata": {},
   "outputs": [
    {
     "ename": "NameError",
     "evalue": "name '_test' is not defined",
     "output_type": "error",
     "traceback": [
      "\u001b[1;31m---------------------------------------------------------------------------\u001b[0m",
      "\u001b[1;31mNameError\u001b[0m                                 Traceback (most recent call last)",
      "\u001b[1;32m<ipython-input-9-f1d1a4848be2>\u001b[0m in \u001b[0;36m<module>\u001b[1;34m\u001b[0m\n\u001b[0;32m     28\u001b[0m \u001b[1;33m\u001b[0m\u001b[0m\n\u001b[0;32m     29\u001b[0m     \u001b[1;32mreturn\u001b[0m \u001b[0mX_train\u001b[0m\u001b[1;33m,\u001b[0m \u001b[0my_train\u001b[0m\u001b[1;33m,\u001b[0m \u001b[0mX_test\u001b[0m\u001b[1;33m,\u001b[0m \u001b[0my_test\u001b[0m\u001b[1;33m\u001b[0m\u001b[1;33m\u001b[0m\u001b[0m\n\u001b[1;32m---> 30\u001b[1;33m \u001b[0msplit_data_balanced\u001b[0m\u001b[1;33m(\u001b[0m\u001b[0mdata\u001b[0m\u001b[1;33m,\u001b[0m \u001b[1;34m'./datasets/wiki-demo-100.tsv'\u001b[0m\u001b[1;33m)\u001b[0m\u001b[1;33m\u001b[0m\u001b[1;33m\u001b[0m\u001b[0m\n\u001b[0m",
      "\u001b[1;32m<ipython-input-9-f1d1a4848be2>\u001b[0m in \u001b[0;36msplit_data_balanced\u001b[1;34m(data, data_location)\u001b[0m\n\u001b[0;32m     20\u001b[0m \u001b[1;33m\u001b[0m\u001b[0m\n\u001b[0;32m     21\u001b[0m     \u001b[0mtest\u001b[0m \u001b[1;33m=\u001b[0m \u001b[1;33m[\u001b[0m\u001b[1;33m*\u001b[0m\u001b[0mtest_pos\u001b[0m\u001b[1;33m,\u001b[0m \u001b[1;33m*\u001b[0m\u001b[0mmirrors\u001b[0m\u001b[1;33m]\u001b[0m\u001b[1;33m\u001b[0m\u001b[1;33m\u001b[0m\u001b[0m\n\u001b[1;32m---> 22\u001b[1;33m     \u001b[0mtest_df\u001b[0m \u001b[1;33m=\u001b[0m \u001b[0mdata\u001b[0m\u001b[1;33m.\u001b[0m\u001b[0mreindex\u001b[0m\u001b[1;33m(\u001b[0m\u001b[1;33m[\u001b[0m\u001b[0mstr\u001b[0m\u001b[1;33m(\u001b[0m\u001b[0mt\u001b[0m\u001b[1;33m)\u001b[0m \u001b[1;32mfor\u001b[0m \u001b[0mt\u001b[0m \u001b[1;32min\u001b[0m \u001b[0m_test\u001b[0m\u001b[1;33m]\u001b[0m\u001b[1;33m)\u001b[0m\u001b[1;33m.\u001b[0m\u001b[0mfillna\u001b[0m\u001b[1;33m(\u001b[0m\u001b[1;36m0\u001b[0m\u001b[1;33m)\u001b[0m\u001b[1;33m\u001b[0m\u001b[1;33m\u001b[0m\u001b[0m\n\u001b[0m\u001b[0;32m     23\u001b[0m     \u001b[0mprint\u001b[0m\u001b[1;33m(\u001b[0m\u001b[0mtest\u001b[0m\u001b[1;33m.\u001b[0m\u001b[0mindex\u001b[0m\u001b[1;33m)\u001b[0m\u001b[1;33m\u001b[0m\u001b[1;33m\u001b[0m\u001b[0m\n\u001b[0;32m     24\u001b[0m     \u001b[0mtrain_df\u001b[0m \u001b[1;33m=\u001b[0m \u001b[0mdata\u001b[0m\u001b[1;33m.\u001b[0m\u001b[0mdrop\u001b[0m\u001b[1;33m(\u001b[0m\u001b[0mtest_df\u001b[0m\u001b[1;33m.\u001b[0m\u001b[0mindex\u001b[0m\u001b[1;33m,\u001b[0m \u001b[0merrors\u001b[0m\u001b[1;33m=\u001b[0m\u001b[1;34m'ignore'\u001b[0m\u001b[1;33m)\u001b[0m\u001b[1;33m\u001b[0m\u001b[1;33m\u001b[0m\u001b[0m\n",
      "\u001b[1;31mNameError\u001b[0m: name '_test' is not defined"
     ]
    }
   ],
   "source": [
    "def split_data_balanced(data, data_location):\n",
    "    # calculate adj matrix\n",
    "    G = helper.build_graph(data_location)\n",
    "    A = sparse.csr_matrix(nx.to_numpy_matrix(G, weight=\"weight\"))\n",
    "\n",
    "    # Matrix M[i,j] showing adjacency between Node i and j\n",
    "    adj = A.todense()    \n",
    "\n",
    "    A[A != 0] = 1\n",
    "    B = A + A.T\n",
    "    # Matrix M[i,j] showing number of common neighbors between Node i and j\n",
    "    embeddedness_matrix = (B@B.T).todense()\n",
    "    # Marks the nonedges already chosen\n",
    "    marker = np.zeros(A.shape)\n",
    "    \n",
    "    pos = list(zip(*np.where(adj > 0)))\n",
    "    random.shuffle(pos)\n",
    "    test_pos = pos[:len(pos) // 10]\n",
    "    mirrors = [mirror_pair(p, embeddedness_matrix, adj, marker) for p in test_pos]  \n",
    "    \n",
    "    test = [*test_pos, *mirrors]\n",
    "    test_df = data.reindex([str(t) for t in _test]).fillna(0)\n",
    "    print(test.index)\n",
    "    train_df = data.drop(test_df.index, errors='ignore')\n",
    "\n",
    "    X_train, y_train = train_df.drop('edge_sign', axis=1), train_df['edge_sign']\n",
    "    X_test, y_test = test_df.drop('edge_sign', axis=1), test_df['edge_sign']\n",
    "    \n",
    "    return X_train, y_train, X_test, y_test\n",
    "split_data_balanced(data, './datasets/wiki-demo-100.tsv')"
   ]
  },
  {
   "cell_type": "code",
   "execution_count": 8,
   "metadata": {},
   "outputs": [],
   "source": [
    "def mirror_pair(pair, embeddedness_matrix, adj, marker):\n",
    "    embeddedness = embeddedness_matrix[pair]\n",
    "    equal_pair = next(zip(*np.where(functools.reduce(np.logical_and, (embeddedness_matrix == embeddedness, adj == 0, marker == 0)))))\n",
    "    if equal_pair is not None:\n",
    "        marker[equal_pair] = 1\n",
    "    return equal_pair"
   ]
  },
  {
   "cell_type": "code",
   "execution_count": 157,
   "metadata": {},
   "outputs": [],
   "source": [
    "_G = helper.build_graph(\"./datasets/wiki-demo-100.tsv\")\n",
    "_A = sparse.csr_matrix(nx.to_numpy_matrix(G, weight=\"weight\"))\n",
    "_adj = _A.todense()\n",
    "_A[_A != 0] = 1\n",
    "_B = _A + _A.T\n",
    "_embeddedness_matrix = (_B@_B.T).todense()\n",
    "\n",
    "_marker = np.zeros(A.shape)\n"
   ]
  },
  {
   "cell_type": "code",
   "execution_count": 158,
   "metadata": {},
   "outputs": [],
   "source": [
    "_pos = list(zip(*np.where(_adj > 0)))\n",
    "random.shuffle(_pos)\n",
    "\n",
    "_test_pos = _pos[:len(_pos) // 10]\n",
    "_mirrors = [mirror_pair(p, _embeddedness_matrix, _adj, _marker) for p in _test_pos]\n",
    "_test = [*_test_pos, *_mirrors]"
   ]
  },
  {
   "cell_type": "code",
   "execution_count": 160,
   "metadata": {},
   "outputs": [],
   "source": [
    "test = data.reindex([str(t) for t in _test]).fillna(0)\n",
    "train = data.drop(test.index, errors='ignore')\n"
   ]
  },
  {
   "cell_type": "code",
   "execution_count": 161,
   "metadata": {},
   "outputs": [],
   "source": [
    "X_train, y_train = train.drop('edge_sign', axis=1), train['edge_sign']\n",
    "X_test, y_test = test.drop('edge_sign', axis=1), test['edge_sign']"
   ]
  },
  {
   "cell_type": "code",
   "execution_count": 162,
   "metadata": {},
   "outputs": [
    {
     "data": {
      "text/plain": [
       "K\n",
       "(514, 3)      0\n",
       "(3, 514)      0\n",
       "(514, 6)      0\n",
       "(6, 514)      0\n",
       "(514, 8)      0\n",
       "             ..\n",
       "(422, 415)    0\n",
       "(415, 428)    0\n",
       "(428, 415)    0\n",
       "(422, 428)    0\n",
       "(428, 422)    0\n",
       "Name: edge_sign, Length: 7300, dtype: int64"
      ]
     },
     "execution_count": 162,
     "metadata": {},
     "output_type": "execute_result"
    }
   ],
   "source": [
    "y_train"
   ]
  },
  {
   "cell_type": "code",
   "execution_count": 9,
   "metadata": {},
   "outputs": [
    {
     "data": {
      "text/plain": [
       "<zip at 0x14313c6fb48>"
      ]
     },
     "execution_count": 9,
     "metadata": {},
     "output_type": "execute_result"
    }
   ],
   "source": [
    "\n",
    "zip(np.where(_adj > 0))"
   ]
  },
  {
   "cell_type": "code",
   "execution_count": 4,
   "metadata": {},
   "outputs": [
    {
     "name": "stderr",
     "output_type": "stream",
     "text": [
      "100%|████████████████████████████████████████████████████████████████████████████████| 731/731 [05:09<00:00,  2.36it/s]\n"
     ]
    }
   ],
   "source": [
    "# WHEN USING K FOLD\n",
    "# def balance_test(X_train, X_test, y_train, y_test, data_location):\n",
    "#     # calculate adj matrix\n",
    "#     G = helper.build_graph(data_location)\n",
    "#     A = sparse.csr_matrix(nx.to_numpy_matrix(G, weight=\"weight\"))\n",
    "\n",
    "#     A[A != 0] = 1\n",
    "#     B = A + A.T\n",
    "#     embeddedness_matrix = (B@B.T).todense()\n",
    "#     adj = A.todense()    \n",
    "#     marker = np.zeros(A.shape)\n",
    "    \n",
    "#     for pair in tqdm.tqdm(X_test.K):\n",
    "#         embeddedness = embeddedness_matrix[eval(pair)]\n",
    "#         mirror_pair = next(zip(*np.where(np.logical_and(embeddedness_matrix == embeddedness, adj == 0))), None)\n",
    "#         if mirror_pair is None:\n",
    "#             print(f\"MISSING MATCH <{pair}>|{embeddedness}\")\n",
    "#             continue\n",
    "        \n",
    "#         selected = random.choice(mirror_pair)\n",
    "#         marker[selected] = 1\n",
    "        \n",
    "#     return embeddedness_matrix, A\n",
    "# e, a = balance_test(X_train, X_test, y_train, y_test, \"./datasets/wiki-demo-100.tsv\")"
   ]
  },
  {
   "cell_type": "code",
   "execution_count": null,
   "metadata": {},
   "outputs": [],
   "source": []
  },
  {
   "cell_type": "code",
   "execution_count": 22,
   "metadata": {},
   "outputs": [],
   "source": [
    "_t = (zip(*np.where(e == 100)))"
   ]
  },
  {
   "cell_type": "code",
   "execution_count": 23,
   "metadata": {},
   "outputs": [
    {
     "ename": "StopIteration",
     "evalue": "",
     "output_type": "error",
     "traceback": [
      "\u001b[1;31m---------------------------------------------------------------------------\u001b[0m",
      "\u001b[1;31mStopIteration\u001b[0m                             Traceback (most recent call last)",
      "\u001b[1;32m<ipython-input-23-0c16cad18cba>\u001b[0m in \u001b[0;36m<module>\u001b[1;34m\u001b[0m\n\u001b[1;32m----> 1\u001b[1;33m \u001b[0mnext\u001b[0m\u001b[1;33m(\u001b[0m\u001b[0m_t\u001b[0m\u001b[1;33m)\u001b[0m\u001b[1;33m\u001b[0m\u001b[1;33m\u001b[0m\u001b[0m\n\u001b[0m",
      "\u001b[1;31mStopIteration\u001b[0m: "
     ]
    }
   ],
   "source": [
    "next(_t, )"
   ]
  },
  {
   "cell_type": "code",
   "execution_count": null,
   "metadata": {},
   "outputs": [],
   "source": []
  }
 ],
 "metadata": {
  "kernelspec": {
   "display_name": "Python 3",
   "language": "python",
   "name": "python3"
  },
  "language_info": {
   "codemirror_mode": {
    "name": "ipython",
    "version": 3
   },
   "file_extension": ".py",
   "mimetype": "text/x-python",
   "name": "python",
   "nbconvert_exporter": "python",
   "pygments_lexer": "ipython3",
   "version": "3.7.6"
  }
 },
 "nbformat": 4,
 "nbformat_minor": 4
}
