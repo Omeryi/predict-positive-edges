{
 "cells": [
  {
   "cell_type": "markdown",
   "metadata": {},
   "source": [
    "***The following code demonstrates The abilitiy to create and even draw a graph, and calculate features on a small dataset.\n",
    "The usage of small dataset is meant to save runtime and get a clear drawing of the graph:***"
   ]
  },
  {
   "cell_type": "code",
   "execution_count": null,
   "metadata": {},
   "outputs": [],
   "source": [
    "import numpy as np\n",
    "import graph as helper\n",
    "import features\n",
    "import networkx as nx\n",
    "import pandas as pd\n",
    "from scipy import sparse\n",
    "import predictor \n",
    "\n",
    "import scipy as sp\n",
    "from sklearn.linear_model import LogisticRegression\n",
    "from sklearn.model_selection import train_test_split\n",
    "from sklearn.metrics import classification_report\n",
    "\n",
    "import tqdm\n",
    "import random\n",
    "import functools"
   ]
  },
  {
   "cell_type": "code",
   "execution_count": null,
   "metadata": {},
   "outputs": [],
   "source": [
    "# calculate adj matrix\n",
    "G = helper.build_graph(\"./datasets/wiki-demo-100.tsv\")\n",
    "A = sparse.csr_matrix(nx.to_numpy_matrix(G, weight=\"weight\"))\n",
    "\n",
    "A[A != 0] = 1\n",
    "B = A + A.T\n",
    "maybefixed = B@B.T"
   ]
  },
  {
   "cell_type": "code",
   "execution_count": null,
   "metadata": {},
   "outputs": [],
   "source": [
    "data = pd.read_csv(\"wiki-features-100-lines-v2\", sep =\"\\t\").rename(columns={'Unnamed: 0': 'K'})\n",
    "\n",
    "X_train, X_test, y_train, y_test = train_test_split(data.drop('edge_sign', axis=1), data['edge_sign'],\n",
    "                     test_size=0.10, random_state=101)"
   ]
  },
  {
   "cell_type": "code",
   "execution_count": null,
   "metadata": {},
   "outputs": [],
   "source": [
    "def split_data_balanced(data, data_location):\n",
    "    # calculate adj matrix\n",
    "    G = helper.build_graph(data_location)\n",
    "    A = sparse.csr_matrix(nx.to_numpy_matrix(G, weight=\"weight\"))\n",
    "\n",
    "    # Matrix M[i,j] showing adjacency between Node i and j\n",
    "    adj = A.todense()    \n",
    "\n",
    "    A[A != 0] = 1\n",
    "    B = A + A.T\n",
    "    # Matrix M[i,j] showing number of common neighbors between Node i and j\n",
    "    embeddedness_matrix = (B@B.T).todense()\n",
    "    # Marks the nonedges already chosen\n",
    "    marker = np.zeros(A.shape)\n",
    "    \n",
    "    pos = list(zip(*np.where(adj > 0)))\n",
    "    random.shuffle(pos)\n",
    "    test_pos = pos[:len(pos) // 10]\n",
    "    mirrors = [mirror_pair(p, embeddedness_matrix, adj, marker) for p in test_pos]  \n",
    "    \n",
    "    test = [*test_pos, *mirrors]\n",
    "    test_df = data.reindex([str(t) for t in test]).fillna(0)\n",
    "    train_df = data.drop(test_df.index, errors='ignore')\n",
    "    \n",
    "    X_train, y_train = train_df.drop('edge_sign', axis=1), train_df['edge_sign']\n",
    "    X_test, y_test = test_df.drop('edge_sign', axis=1), test_df['edge_sign']\n",
    "    \n",
    "    return X_train, y_train, X_test, y_test\n",
    "X_train, my_y_train, X_test, my_y_test = split_data_balanced(data, './datasets/wiki-demo-100.tsv')"
   ]
  },
  {
   "cell_type": "code",
   "execution_count": null,
   "metadata": {},
   "outputs": [],
   "source": [
    "print(predict('./calculated_features/wiki-full-features.tsv'), file=f)"
   ]
  },
  {
   "cell_type": "code",
   "execution_count": null,
   "metadata": {},
   "outputs": [],
   "source": [
    "def mirror_pair(pair, embeddedness_matrix, adj, marker):\n",
    "    embeddedness = embeddedness_matrix[pair]\n",
    "    equal_pair = next(zip(*np.where(functools.reduce(np.logical_and, (embeddedness_matrix == embeddedness, adj == 0, marker == 0)))))\n",
    "    if equal_pair is not None:\n",
    "        marker[equal_pair] = 1\n",
    "    return equal_pair"
   ]
  },
  {
   "cell_type": "code",
   "execution_count": null,
   "metadata": {},
   "outputs": [],
   "source": [
    "_G = helper.build_graph(\"./datasets/wiki-demo-100.tsv\")\n",
    "_A = sparse.csr_matrix(nx.to_numpy_matrix(G, weight=\"weight\"))\n",
    "_adj = _A.todense()\n",
    "_A[_A != 0] = 1\n",
    "_B = _A + _A.T\n",
    "_embeddedness_matrix = (_B@_B.T).todense()\n",
    "\n",
    "_marker = np.zeros(A.shape)\n"
   ]
  },
  {
   "cell_type": "code",
   "execution_count": null,
   "metadata": {},
   "outputs": [],
   "source": [
    "_pos = list(zip(*np.where(_adj > 0)))\n",
    "random.shuffle(_pos)\n",
    "\n",
    "_test_pos = _pos[:len(_pos) // 10]\n",
    "_mirrors = [mirror_pair(p, _embeddedness_matrix, _adj, _marker) for p in _test_pos]\n",
    "_test = [*_test_pos, *_mirrors]"
   ]
  },
  {
   "cell_type": "code",
   "execution_count": null,
   "metadata": {},
   "outputs": [],
   "source": [
    "test = data.reindex([str(t) for t in _test]).fillna(0)\n",
    "train = data.drop(test.index, errors='ignore')\n"
   ]
  },
  {
   "cell_type": "code",
   "execution_count": null,
   "metadata": {},
   "outputs": [],
   "source": [
    "X_train, y_train = train.drop('edge_sign', axis=1), train['edge_sign']\n",
    "X_test, y_test = test.drop('edge_sign', axis=1), test['edge_sign']"
   ]
  },
  {
   "cell_type": "code",
   "execution_count": null,
   "metadata": {},
   "outputs": [],
   "source": [
    "y_train"
   ]
  },
  {
   "cell_type": "code",
   "execution_count": null,
   "metadata": {},
   "outputs": [],
   "source": [
    "\n",
    "zip(np.where(_adj > 0))"
   ]
  },
  {
   "cell_type": "code",
   "execution_count": null,
   "metadata": {},
   "outputs": [],
   "source": [
    "# WHEN USING K FOLD\n",
    "# def balance_test(X_train, X_test, y_train, y_test, data_location):\n",
    "#     # calculate adj matrix\n",
    "#     G = helper.build_graph(data_location)\n",
    "#     A = sparse.csr_matrix(nx.to_numpy_matrix(G, weight=\"weight\"))\n",
    "\n",
    "#     A[A != 0] = 1\n",
    "#     B = A + A.T\n",
    "#     embeddedness_matrix = (B@B.T).todense()\n",
    "#     adj = A.todense()    \n",
    "#     marker = np.zeros(A.shape)\n",
    "    \n",
    "#     for pair in tqdm.tqdm(X_test.K):\n",
    "#         embeddedness = embeddedness_matrix[eval(pair)]\n",
    "#         mirror_pair = next(zip(*np.where(np.logical_and(embeddedness_matrix == embeddedness, adj == 0))), None)\n",
    "#         if mirror_pair is None:\n",
    "#             print(f\"MISSING MATCH <{pair}>|{embeddedness}\")\n",
    "#             continue\n",
    "        \n",
    "#         selected = random.choice(mirror_pair)\n",
    "#         marker[selected] = 1\n",
    "        \n",
    "#     return embeddedness_matrix, A\n",
    "# e, a = balance_test(X_train, X_test, y_train, y_test, \"./datasets/wiki-demo-100.tsv\")"
   ]
  },
  {
   "cell_type": "code",
   "execution_count": null,
   "metadata": {},
   "outputs": [],
   "source": []
  },
  {
   "cell_type": "code",
   "execution_count": null,
   "metadata": {},
   "outputs": [],
   "source": [
    "_t = (zip(*np.where(e == 100)))"
   ]
  },
  {
   "cell_type": "code",
   "execution_count": null,
   "metadata": {},
   "outputs": [],
   "source": [
    "next(_t, )"
   ]
  },
  {
   "cell_type": "code",
   "execution_count": null,
   "metadata": {},
   "outputs": [],
   "source": [
    "data.set_index(['K']).reset_index()"
   ]
  },
  {
   "cell_type": "code",
   "execution_count": null,
   "metadata": {},
   "outputs": [],
   "source": [
    "_c.isin()"
   ]
  }
 ],
 "metadata": {
  "kernelspec": {
   "display_name": "Python 3",
   "language": "python",
   "name": "python3"
  },
  "language_info": {
   "codemirror_mode": {
    "name": "ipython",
    "version": 3
   },
   "file_extension": ".py",
   "mimetype": "text/x-python",
   "name": "python",
   "nbconvert_exporter": "python",
   "pygments_lexer": "ipython3",
   "version": "3.7.6"
  }
 },
 "nbformat": 4,
 "nbformat_minor": 4
}
