{
 "cells": [
  {
   "cell_type": "markdown",
   "metadata": {},
   "source": [
    "***The following code demonstrates The abilitiy to create and even draw a graph, and calculate features on a small dataset.\n",
    "The usage of small dataset is meant to save runtime and get a clear drawing of the graph:***"
   ]
  },
  {
   "cell_type": "code",
   "execution_count": 1,
   "metadata": {},
   "outputs": [],
   "source": [
    "import graph as helper\n",
    "import features\n",
    "import networkx as nx"
   ]
  },
  {
   "cell_type": "code",
   "execution_count": 1,
   "metadata": {},
   "outputs": [],
   "source": [
    "#helper.draw_graph(helper.build_graph(\"./datasets/wiki-demo-100.tsv\"))"
   ]
  },
  {
   "cell_type": "code",
   "execution_count": 2,
   "metadata": {},
   "outputs": [],
   "source": [
    "#features.compute_degrees(\"./datasets/wiki-demo-1000.tsv\")"
   ]
  },
  {
   "cell_type": "code",
   "execution_count": 3,
   "metadata": {},
   "outputs": [],
   "source": [
    "#features.compute_triads(\"./datasets/wiki-demo-5.tsv\")\n",
    "# WORK IN PROGRESS: Solve eternal loop"
   ]
  },
  {
   "cell_type": "code",
   "execution_count": null,
   "metadata": {},
   "outputs": [],
   "source": []
  }
 ],
 "metadata": {
  "kernelspec": {
   "display_name": "Python 3",
   "language": "python",
   "name": "python3"
  },
  "language_info": {
   "codemirror_mode": {
    "name": "ipython",
    "version": 3
   },
   "file_extension": ".py",
   "mimetype": "text/x-python",
   "name": "python",
   "nbconvert_exporter": "python",
   "pygments_lexer": "ipython3",
   "version": "3.7.6"
  }
 },
 "nbformat": 4,
 "nbformat_minor": 4
}
