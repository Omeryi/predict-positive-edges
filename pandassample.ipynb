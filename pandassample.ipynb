{
 "cells": [
  {
   "cell_type": "code",
   "execution_count": 7,
   "metadata": {},
   "outputs": [],
   "source": [
    "import pandas as pd\n",
    "import graph as helper\n",
    "import networkx as nx\n",
    "import itertools"
   ]
  },
  {
   "cell_type": "code",
   "execution_count": 12,
   "metadata": {},
   "outputs": [],
   "source": [
    "def compute_degrees(tsv_file):\n",
    "    # build new data frame for degrees: \n",
    "    df = pd.read_csv(tsv_file, sep='\\t')\n",
    "    num_of_nodes = max(df.max())\n",
    "    data = {'positive_in_degree': [0], 'positive_out_degree':[0], 'negative_in_degree': [0], 'negative_out_degree': [0]}\n",
    "    degrees_df = pd.DataFrame(data, index = [node_id for node_id in range(num_of_nodes)])\n",
    "    \n",
    "    # fill new data frame with data:\n",
    "    for node_id in range(num_of_nodes):\n",
    "        positive_in = df[(df.ToNodeId == node_id) & (df.Sign == 1)].shape[0]\n",
    "        positive_out = df[(df.FromNodeId == node_id) & (df.Sign == 1)].shape[0]\n",
    "        negative_in = df[(df.ToNodeId == node_id) & (df.Sign == -1)].shape[0]\n",
    "        negative_out = df[(df.FromNodeId == node_id) & (df.Sign == -1)].shape[0]\n",
    "            \n",
    "        degrees_df.at[node_id,'positive_in_degree'] = positive_in\n",
    "        degrees_df.at[node_id, 'positive_out_degree'] = positive_out\n",
    "        degrees_df.at[node_id, 'negative_in_degree'] = negative_in\n",
    "        degrees_df.at[node_id, 'negative_out_degree'] = negative_out\n",
    "    \n",
    "    return degrees_df"
   ]
  },
  {
   "cell_type": "code",
   "execution_count": null,
   "metadata": {},
   "outputs": [],
   "source": [
    "# Each triad type is represented by four digits as each digit may be 0 or 1. \n",
    "# First dif\n",
    "TRIADS_TYPES = [(0,0,0,0),\n",
    "               (0,0,0,1),\n",
    "               (0,0,1,0), \n",
    "               (0,0,1,1),\n",
    "               (0,1,0,0),\n",
    "               (0,1,0,1),\n",
    "               (0,1,1,0),\n",
    "               (0,1,1,1),\n",
    "               (1,0,0,0),\n",
    "               (1,0,0,1),\n",
    "               (1,0,1,0),\n",
    "               (1,0,1,1),\n",
    "               (1,1,0,0),\n",
    "               (1,1,0,1),\n",
    "               (1,1,1,0),\n",
    "               (1,1,1,1)]\n",
    "\n",
    "def triad_to_number(triad):\n",
    "    return TRIADS_TYPES.index(triad)\n",
    "\n",
    "def get_triad_status(u, w, v, triad, graph_df):\n",
    "    triad_status = 1\n",
    "    # TODO: FINISH\n",
    "\n",
    "def compute_triads_for_pair(u, w, v, graph_df, triads_df):\n",
    "    for triad in TRIADS_TYPES:\n",
    "        triad_status = get_triad_status(u, w, v, triad, graph_df)\n",
    "        # fill triads df with the data\n",
    "        # TODO: FINISH!\n",
    "          \n",
    "def compute_triads(tsv_file):\n",
    "    graph_df = pd.read_csv(tsv_file, sep='\\t')\n",
    "    num_of_nodes = max(graph_df.max())\n",
    "    graph = helper.build_graph(tsv_file)\n",
    "    undirected_graph = graph.to_undirected()\n",
    "    triads_df = None\n",
    "    \n",
    "    print(undirected_graph)\n",
    "    #for (u,v) in itertools.permutations([i for i in range(num_of_nodes)], 2):\n",
    "        #for w in nx.common_neighbors(undirected_graph, u, v):\n",
    "            #print(u,v,w)\n",
    "        pass\n",
    "\n",
    "compute_triads()\n",
    "\n",
    "# figure out how to create undirected graph!"
   ]
  },
  {
   "cell_type": "code",
   "execution_count": 14,
   "metadata": {},
   "outputs": [
    {
     "name": "stdout",
     "output_type": "stream",
     "text": [
      "\n"
     ]
    }
   ],
   "source": [
    "graph = helper.build_graph('./datasets/soc-sign-epinions.tsv')\n",
    "undirected_graph = nx.to_undirected(graph)\n",
    "print(undirected_graph)"
   ]
  },
  {
   "cell_type": "code",
   "execution_count": 19,
   "metadata": {},
   "outputs": [
    {
     "name": "stderr",
     "output_type": "stream",
     "text": [
      "C:\\Users\\omyiz\\anaconda3\\lib\\site-packages\\ipykernel_launcher.py:9: UserWarning: Boolean Series key will be reindexed to match DataFrame index.\n",
      "  if __name__ == '__main__':\n"
     ]
    },
    {
     "data": {
      "text/plain": [
       "4"
      ]
     },
     "execution_count": 19,
     "metadata": {},
     "output_type": "execute_result"
    }
   ],
   "source": [
    "def get_degrees(i):\n",
    "    pass\n",
    "    # return {\n",
    "      #  \"outgoing\": df[df.FromNodeId == i]['Sign'].value_counts(), \n",
    "       # \"incoming\": df[df.ToNodeId == i]['Sign' == '1'].value_counts()}\n",
    "\n",
    "\n"
   ]
  },
  {
   "cell_type": "code",
   "execution_count": 7,
   "metadata": {},
   "outputs": [],
   "source": [
    "def get_triads(u, v):\n",
    "    df[((df.FromNodeId == u) | (df.ToNodeId == u)) | (df.FromNodeId == v) | (df.ToNodeId == v)]\n"
   ]
  },
  {
   "cell_type": "code",
   "execution_count": 8,
   "metadata": {},
   "outputs": [],
   "source": [
    "G = helper.build_graph('./datasets/soc-sign-epinions.tsv')"
   ]
  },
  {
   "cell_type": "code",
   "execution_count": 3,
   "metadata": {},
   "outputs": [
    {
     "data": {
      "text/plain": [
       "<networkx.classes.digraph.DiGraph at 0x14ec0db3ec8>"
      ]
     },
     "execution_count": 3,
     "metadata": {},
     "output_type": "execute_result"
    }
   ],
   "source": [
    "G"
   ]
  },
  {
   "cell_type": "code",
   "execution_count": null,
   "metadata": {},
   "outputs": [],
   "source": []
  }
 ],
 "metadata": {
  "kernelspec": {
   "display_name": "Python 3",
   "language": "python",
   "name": "python3"
  },
  "language_info": {
   "codemirror_mode": {
    "name": "ipython",
    "version": 3
   },
   "file_extension": ".py",
   "mimetype": "text/x-python",
   "name": "python",
   "nbconvert_exporter": "python",
   "pygments_lexer": "ipython3",
   "version": "3.7.6"
  }
 },
 "nbformat": 4,
 "nbformat_minor": 4
}
