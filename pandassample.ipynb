{
 "cells": [
  {
   "cell_type": "code",
   "execution_count": 1,
   "metadata": {},
   "outputs": [],
   "source": [
    "import pandas as pd\n",
    "import graph as helper"
   ]
  },
  {
   "cell_type": "code",
   "execution_count": null,
   "metadata": {},
   "outputs": [],
   "source": [
    "def compute_degrees(tsv_file):\n",
    "    # build new data frame for degrees: \n",
    "    df = pd.read_csv(tsv_file, sep='\\t')\n",
    "    num_of_nodes = max(df.max())\n",
    "    data = {'positive_in_degree': [0], 'positive_out_degree':[0], 'negative_in_degree': [0], 'negative_out_degree': [0]}\n",
    "    degrees_df = pd.DataFrame(data, index = [node_id for node_id in range(num_of_nodes)])\n",
    "    \n",
    "    # fill data frame with data:\n",
    "    for node_id in range(num_of_nodes): \n",
    "        positive_in = df[df.ToNodeId == node_id][df.Sign == 1].shape[0]\n",
    "        positive_out = df[df.FromNodeId == node_id][df.Sign == 1].shape[0]\n",
    "        negative_in = df[df.ToNodeId == node_id][df.Sign == -1].shape[0]\n",
    "        negative_out = df[df.FromNodeId == node_id][df.Sign == -1].shape[0]\n",
    "        \n",
    "        ## todo: find out how to update row\n",
    "    \n",
    "    return degrees_df\n",
    "\n",
    "compute_degrees('./datasets/soc-sign-epinions.tsv')"
   ]
  },
  {
   "cell_type": "code",
   "execution_count": 4,
   "metadata": {},
   "outputs": [
    {
     "data": {
      "text/html": [
       "<div>\n",
       "<style scoped>\n",
       "    .dataframe tbody tr th:only-of-type {\n",
       "        vertical-align: middle;\n",
       "    }\n",
       "\n",
       "    .dataframe tbody tr th {\n",
       "        vertical-align: top;\n",
       "    }\n",
       "\n",
       "    .dataframe thead th {\n",
       "        text-align: right;\n",
       "    }\n",
       "</style>\n",
       "<table border=\"1\" class=\"dataframe\">\n",
       "  <thead>\n",
       "    <tr style=\"text-align: right;\">\n",
       "      <th></th>\n",
       "      <th>FromNodeId</th>\n",
       "      <th>ToNodeId</th>\n",
       "      <th>Sign</th>\n",
       "    </tr>\n",
       "  </thead>\n",
       "  <tbody>\n",
       "    <tr>\n",
       "      <th>2</th>\n",
       "      <td>2</td>\n",
       "      <td>3</td>\n",
       "      <td>1</td>\n",
       "    </tr>\n",
       "    <tr>\n",
       "      <th>4781</th>\n",
       "      <td>116</td>\n",
       "      <td>3</td>\n",
       "      <td>1</td>\n",
       "    </tr>\n",
       "    <tr>\n",
       "      <th>161208</th>\n",
       "      <td>3579</td>\n",
       "      <td>3</td>\n",
       "      <td>1</td>\n",
       "    </tr>\n",
       "    <tr>\n",
       "      <th>203321</th>\n",
       "      <td>5079</td>\n",
       "      <td>3</td>\n",
       "      <td>1</td>\n",
       "    </tr>\n",
       "  </tbody>\n",
       "</table>\n",
       "</div>"
      ],
      "text/plain": [
       "        FromNodeId  ToNodeId  Sign\n",
       "2                2         3     1\n",
       "4781           116         3     1\n",
       "161208        3579         3     1\n",
       "203321        5079         3     1"
      ]
     },
     "execution_count": 4,
     "metadata": {},
     "output_type": "execute_result"
    }
   ],
   "source": [
    "df = pd.read_csv('./datasets/soc-sign-epinions.tsv', sep = \"\\t\")\n",
    "df[(df.ToNodeId == 3) | (df.FromNodeId == 3)]"
   ]
  },
  {
   "cell_type": "code",
   "execution_count": 19,
   "metadata": {},
   "outputs": [
    {
     "name": "stderr",
     "output_type": "stream",
     "text": [
      "C:\\Users\\omyiz\\anaconda3\\lib\\site-packages\\ipykernel_launcher.py:9: UserWarning: Boolean Series key will be reindexed to match DataFrame index.\n",
      "  if __name__ == '__main__':\n"
     ]
    },
    {
     "data": {
      "text/plain": [
       "4"
      ]
     },
     "execution_count": 19,
     "metadata": {},
     "output_type": "execute_result"
    }
   ],
   "source": [
    "def get_degrees(i):\n",
    "    pass\n",
    "    # return {\n",
    "      #  \"outgoing\": df[df.FromNodeId == i]['Sign'].value_counts(), \n",
    "       # \"incoming\": df[df.ToNodeId == i]['Sign' == '1'].value_counts()}\n",
    "\n",
    "\n",
    "\n",
    "df[df.ToNodeId == 3][df.Sign == 1].shape[0]\n"
   ]
  },
  {
   "cell_type": "code",
   "execution_count": 7,
   "metadata": {},
   "outputs": [],
   "source": [
    "def get_triads(u, v):\n",
    "    df[((df.FromNodeId == u) | (df.ToNodeId == u)) | (df.FromNodeId == v) | (df.ToNodeId == v)]\n"
   ]
  },
  {
   "cell_type": "code",
   "execution_count": 8,
   "metadata": {},
   "outputs": [],
   "source": [
    "G = helper.build_graph('./datasets/soc-sign-epinions.tsv')"
   ]
  },
  {
   "cell_type": "code",
   "execution_count": 3,
   "metadata": {},
   "outputs": [
    {
     "data": {
      "text/plain": [
       "<networkx.classes.digraph.DiGraph at 0x14ec0db3ec8>"
      ]
     },
     "execution_count": 3,
     "metadata": {},
     "output_type": "execute_result"
    }
   ],
   "source": [
    "G"
   ]
  },
  {
   "cell_type": "code",
   "execution_count": null,
   "metadata": {},
   "outputs": [],
   "source": []
  }
 ],
 "metadata": {
  "kernelspec": {
   "display_name": "Python 3",
   "language": "python",
   "name": "python3"
  },
  "language_info": {
   "codemirror_mode": {
    "name": "ipython",
    "version": 3
   },
   "file_extension": ".py",
   "mimetype": "text/x-python",
   "name": "python",
   "nbconvert_exporter": "python",
   "pygments_lexer": "ipython3",
   "version": "3.7.6"
  }
 },
 "nbformat": 4,
 "nbformat_minor": 4
}
