{
 "cells": [
  {
   "cell_type": "code",
   "execution_count": 2,
   "metadata": {},
   "outputs": [],
   "source": [
    "import pandas as pd\n",
    "import graph as helper\n",
    "import networkx as nx\n",
    "import itertools\n",
    "from datetime import datetime"
   ]
  },
  {
   "cell_type": "code",
   "execution_count": 3,
   "metadata": {},
   "outputs": [],
   "source": [
    "def compute_degrees(tsv_file):\n",
    "    # build new data frame for degrees: \n",
    "    df = pd.read_csv(tsv_file, sep='\\t')\n",
    "    num_of_nodes = max(df.max())\n",
    "    data = {'positive_in_degree': [0], 'positive_out_degree':[0], 'negative_in_degree': [0], 'negative_out_degree': [0]}\n",
    "    degrees_df = pd.DataFrame(data, index = [node_id for node_id in range(num_of_nodes)])\n",
    "    \n",
    "    # fill new data frame with data:\n",
    "    for node_id in range(num_of_nodes):\n",
    "        positive_in = df[(df.ToNodeId == node_id) & (df.Sign == 1)].shape[0]\n",
    "        positive_out = df[(df.FromNodeId == node_id) & (df.Sign == 1)].shape[0]\n",
    "        negative_in = df[(df.ToNodeId == node_id) & (df.Sign == -1)].shape[0]\n",
    "        negative_out = df[(df.FromNodeId == node_id) & (df.Sign == -1)].shape[0]\n",
    "            \n",
    "        degrees_df.at[node_id,'positive_in_degree'] = positive_in\n",
    "        degrees_df.at[node_id, 'positive_out_degree'] = positive_out\n",
    "        degrees_df.at[node_id, 'negative_in_degree'] = negative_in\n",
    "        degrees_df.at[node_id, 'negative_out_degree'] = negative_out\n",
    "    \n",
    "    return degrees_df\n",
    "\n",
    "## TODO: USE THE GRAPH DIRECTLY AND NOT NUM OF NODES!! ## "
   ]
  },
  {
   "cell_type": "code",
   "execution_count": 4,
   "metadata": {},
   "outputs": [],
   "source": [
    "# Each triad type is represented by four digits as each digit may be 0 or 1. \n",
    "# First dif\n",
    "TRIADS_TYPES = [(0,0,0,0),\n",
    "               (0,0,0,1),\n",
    "               (0,0,1,0), \n",
    "               (0,0,1,1),\n",
    "               (0,1,0,0),\n",
    "               (0,1,0,1),\n",
    "               (0,1,1,0),\n",
    "               (0,1,1,1),\n",
    "               (1,0,0,0),\n",
    "               (1,0,0,1),\n",
    "               (1,0,1,0),\n",
    "               (1,0,1,1),\n",
    "               (1,1,0,0),\n",
    "               (1,1,0,1),\n",
    "               (1,1,1,0),\n",
    "               (1,1,1,1)]\n",
    "\n",
    "def triad_to_number(triad):\n",
    "    return TRIADS_TYPES.index(triad)\n",
    "\n",
    "def get_triad_status(u, w, v, triad, graph_df):\n",
    "    first_edge = 0\n",
    "    second_edge = 0\n",
    "    \n",
    "    if (not triad[0]):\n",
    "        first_edge = graph_df[(graph_df.ToNodeId == w) & (graph_df.FromNodeId == u) & (graph_df.Sign == -1 if triad[1] else 1)].shape[0]\n",
    "    else:\n",
    "        first_edge = graph_df[(graph_df.ToNodeId == u) & (graph_df.FromNodeId == w) & (graph_df.Sign == -1 if triad[1] else 1)].shape[0]\n",
    "        \n",
    "    if (not triad[2]):\n",
    "        second_edge = graph_df[(graph_df.ToNodeId == w) & (graph_df.FromNodeId == v) & (graph_df.Sign == -1 if triad[3] else 1)].shape[0]\n",
    "    else:\n",
    "        second_edge = graph_df[(graph_df.ToNodeId == v) & (graph_df.FromNodeId == w) & (graph_df.Sign == -1 if triad[3] else 1)].shape[0]\n",
    "        \n",
    "    return 1 if (first_edge and second_edge) else 0\n",
    "          \n",
    "def compute_triads(tsv_file):\n",
    "    graph_df = pd.read_csv(tsv_file, sep='\\t')\n",
    "    graph = helper.build_graph(tsv_file)\n",
    "    undirected_graph = graph.to_undirected()\n",
    "    \n",
    "    triads_data = {str(triad) : [0] for triad in TRIADS_TYPES}\n",
    "    triads_index = [(u,v) for (u,v) in itertools.permutations(graph.nodes(), 2)]\n",
    "    triads_df = pd.DataFrame(triads_data, triads_index)\n",
    "    \n",
    "    for (u,v) in itertools.permutations(graph.nodes(), 2):\n",
    "        for w in sorted(nx.common_neighbors(undirected_graph, u, v)):\n",
    "            for triad in TRIADS_TYPES:\n",
    "                triads_df.at[(u,v), str(triad)] = triads_df.at[(u,v), str(triad)] + get_triad_status(u, w, v, triad, graph_df)\n",
    "\n",
    "    return triads_df"
   ]
  },
  {
   "cell_type": "code",
   "execution_count": null,
   "metadata": {},
   "outputs": [],
   "source": [
    "time_of_start_computation = datetime.now()\n",
    "triads_df = compute_triads(\"./datasets/wiki.tsv\")\n",
    "time_of_end_computation = datetime.now()\n",
    "triads_time = time_of_end_computation - time_of_start_computation"
   ]
  },
  {
   "cell_type": "code",
   "execution_count": null,
   "metadata": {},
   "outputs": [],
   "source": [
    "triads_df"
   ]
  },
  {
   "cell_type": "code",
   "execution_count": null,
   "metadata": {},
   "outputs": [],
   "source": [
    "triads_time"
   ]
  },
  {
   "cell_type": "code",
   "execution_count": null,
   "metadata": {},
   "outputs": [],
   "source": [
    "time_of_start_computation_degrees = datetime.now()\n",
    "degrees_df = compute_degrees(\"./datasets/wiki.tsv\")\n",
    "time_of_end_computation_degrees = datetime.now()\n",
    "degrees_time = time_of_end_computation_degrees - time_of_start_computation_degrees"
   ]
  },
  {
   "cell_type": "code",
   "execution_count": null,
   "metadata": {},
   "outputs": [],
   "source": [
    "degrees_df "
   ]
  },
  {
   "cell_type": "code",
   "execution_count": null,
   "metadata": {},
   "outputs": [],
   "source": [
    "degrees_time"
   ]
  }
 ],
 "metadata": {
  "kernelspec": {
   "display_name": "Python 3",
   "language": "python",
   "name": "python3"
  },
  "language_info": {
   "codemirror_mode": {
    "name": "ipython",
    "version": 3
   },
   "file_extension": ".py",
   "mimetype": "text/x-python",
   "name": "python",
   "nbconvert_exporter": "python",
   "pygments_lexer": "ipython3",
   "version": "3.8.5"
  }
 },
 "nbformat": 4,
 "nbformat_minor": 4
}
