{
 "cells": [
  {
   "cell_type": "code",
   "execution_count": 1,
   "metadata": {},
   "outputs": [],
   "source": [
    "import pandas as pd\n",
    "import graph as helper\n",
    "import networkx as nx\n",
    "import numpy as np\n",
    "import multiprocessing as mp\n",
    "import itertools\n",
    "from datetime import datetime\n",
    "import math"
   ]
  },
  {
   "cell_type": "code",
   "execution_count": 27,
   "metadata": {},
   "outputs": [],
   "source": [
    "# Each triad type is represented by four digits as each digit may be 0 or 1. \n",
    "# Let w be the common neighbor of two nodes in a triad, u and v:\n",
    "# The first digit represent the direction of the edge between u,w: 0 if u points to w, else 1. \n",
    "# The second digit represents the sign of the edge between u,w: 0 if it`s positive, else 1.\n",
    "# The third digit represents the direction of the edge between v,w: 0 if v points to w, else 1. \n",
    "# The fourth digit represents the sign of the edge between v,w: 0 if it`s positive, else 1.\n",
    "\n",
    "TRIADS_TYPES = [(0,0,0,0),\n",
    "               (0,0,0,1),\n",
    "               (0,0,1,0), \n",
    "               (0,0,1,1),\n",
    "               (0,1,0,0),\n",
    "               (0,1,0,1),\n",
    "               (0,1,1,0),\n",
    "               (0,1,1,1),\n",
    "               (1,0,0,0),\n",
    "               (1,0,0,1),\n",
    "               (1,0,1,0),\n",
    "               (1,0,1,1),\n",
    "               (1,1,0,0),\n",
    "               (1,1,0,1),\n",
    "               (1,1,1,0),\n",
    "               (1,1,1,1)]\n",
    "\n",
    "# currently redundent\n",
    "REVERSE_TRIADS = {(0,0,0,0): (0,0,0,0),\n",
    "               (0,0,0,1): (0, 1, 0, 0),\n",
    "               (0,0,1,0): (1, 0, 0, 0),\n",
    "               (0,0,1,1): (1, 1, 0, 0),\n",
    "               (0,1,0,0): (0, 0, 0, 1),\n",
    "               (0,1,0,1): (0, 1, 0, 1),\n",
    "               (0,1,1,0): (1, 0, 0, 1),\n",
    "               (0,1,1,1): (1, 1, 0, 1),\n",
    "               (1,0,0,0): (0, 0, 1, 0),\n",
    "               (1,0,0,1): (0, 1, 1, 0),\n",
    "               (1,0,1,0): (1, 0, 1, 0),\n",
    "               (1,0,1,1): (1, 1, 1, 0),\n",
    "               (1,1,0,0): (0, 0, 1, 1),\n",
    "               (1,1,0,1): (0, 1, 1, 1),\n",
    "               (1,1,1,0): (1, 0, 1, 1),\n",
    "               (1,1,1,1): (1, 1, 1, 1)}\n",
    "\n",
    "NUMBER_OF_CORES = 6\n",
    "\n",
    "def build_triads_df(graph):\n",
    "    triads_data = {str(triad) : [0] for triad in TRIADS_TYPES}\n",
    "    triads_index = []\n",
    "    for (u,v) in itertools.combinations(graph.nodes(), 2):\n",
    "        triads_index.extend([(u,v),(v,u)])\n",
    "                            \n",
    "    triads_df = pd.DataFrame(triads_data, triads_index)\n",
    "    return triads_df, len(triads_index)\n",
    "    \n",
    "def get_triad_status(u, w, v, triad, graph_df):\n",
    "    first_edge = 0\n",
    "    second_edge = 0\n",
    "    \n",
    "    sign1 = -1 if triad[1] else 1\n",
    "    sign2 = -1 if triad[3] else 1\n",
    "    \n",
    "    if (not triad[0]):\n",
    "        first_edge = graph_df[(graph_df.ToNodeId == int(w)) & (graph_df.FromNodeId == int(u)) & (graph_df.Sign == sign1)].shape[0]\n",
    "    else:\n",
    "        first_edge = graph_df[(graph_df.ToNodeId == int(u)) & (graph_df.FromNodeId == int(w)) & (graph_df.Sign == sign1)].shape[0]\n",
    "        \n",
    "    if (not triad[2]):\n",
    "        second_edge = graph_df[(graph_df.ToNodeId == int(w)) & (graph_df.FromNodeId == int(v)) & (graph_df.Sign == sign2)].shape[0]\n",
    "    else:\n",
    "        second_edge = graph_df[(graph_df.ToNodeId == int(v)) & (graph_df.FromNodeId == int(w)) & (graph_df.Sign == sign2)].shape[0]\n",
    "        \n",
    "    return 1 if (first_edge and second_edge) else 0\n",
    "\n",
    "def process_frame(triads_df, undirected_graph, graph_df):\n",
    "    for (u,v), row in triads_df.iterrows():\n",
    "            triads_dict_for_pair = {triad : 0 for triad in TRIADS_TYPES}\n",
    "            for w in sorted(nx.common_neighbors(undirected_graph, u, v)):\n",
    "                for triad in TRIADS_TYPES:\n",
    "                    triad_status = get_triad_status(u, w, v, triad, graph_df)\n",
    "                    if triad_status:\n",
    "                        print(u,w,v,triad,triad_status)\n",
    "                        triads_dict_for_pair[triad] += 1\n",
    "            for triad in triads_dict_for_pair.keys():\n",
    "                triads_df.at[(u,v), str(triad)] += triads_dict_for_pair[triad]\n",
    "            \n",
    "            \n",
    "def compute_triads(tsv_file):\n",
    "    graph_df = pd.read_csv(tsv_file, sep='\\t')\n",
    "    graph = helper.build_graph(tsv_file)\n",
    "    undirected_graph = graph.to_undirected()\n",
    "                            \n",
    "    triads_df, rows_count = build_triads_df(graph)\n",
    "    triads_df.to_csv(\"tr1\", sep = \"\\t\")\n",
    "    cs = math.floor(rows_count/NUMBER_OF_CORES)\n",
    "    \n",
    "    reader = pd.read_table(\"tr1\", chunksize=cs)\n",
    "    pool = mp.Pool(NUMBER_OF_CORES) \n",
    "\n",
    "    for df in reader:\n",
    "        # process each data frame\n",
    "        f = pool.apply_async(process_frame,[df, undirected_graph, graph_df])\n",
    "\n",
    "    return triads_df\n",
    "\n",
    "                    \n",
    "\n"
   ]
  },
  {
   "cell_type": "code",
   "execution_count": 28,
   "metadata": {},
   "outputs": [],
   "source": [
    "time_of_start_computation = datetime.now()\n",
    "td = compute_triads(\"./datasets/wiki-demo-5.tsv\").to_csv(\"SEE IT IS SIMILIAR FOR REAL\", sep = \"\\t\")\n",
    "time_of_end_computation = datetime.now()\n",
    "triads_time = time_of_end_computation - time_of_start_computation"
   ]
  },
  {
   "cell_type": "code",
   "execution_count": 29,
   "metadata": {},
   "outputs": [
    {
     "data": {
      "text/plain": [
       "datetime.timedelta(microseconds=122701)"
      ]
     },
     "execution_count": 29,
     "metadata": {},
     "output_type": "execute_result"
    }
   ],
   "source": [
    "triads_time"
   ]
  },
  {
   "cell_type": "code",
   "execution_count": 10,
   "metadata": {},
   "outputs": [
    {
     "name": "stdout",
     "output_type": "stream",
     "text": [
      "30 3 54 (1, 0, 1, 0) 1\n",
      "30 3 214 (1, 0, 1, 0) 1\n",
      "30 3 28 (1, 0, 1, 0) 1\n",
      "30 3 286 (1, 0, 1, 0) 1\n",
      "54 3 214 (1, 0, 1, 0) 1\n",
      "54 3 28 (1, 0, 1, 0) 1\n",
      "54 3 286 (1, 0, 1, 0) 1\n",
      "214 3 28 (1, 0, 1, 0) 1\n",
      "214 3 286 (1, 0, 1, 0) 1\n",
      "28 3 286 (1, 0, 1, 0) 1\n"
     ]
    }
   ],
   "source": [
    "time_of_start_computation = datetime.now()\n",
    "compute_triads(\"./datasets/wiki-demo-5.tsv\").to_csv(\"output5\", sep = \"\\t\")\n",
    "time_of_end_computation = datetime.now()\n",
    "triads_time = time_of_end_computation - time_of_start_computation"
   ]
  },
  {
   "cell_type": "code",
   "execution_count": 11,
   "metadata": {},
   "outputs": [
    {
     "data": {
      "text/plain": [
       "datetime.timedelta(microseconds=289937)"
      ]
     },
     "execution_count": 11,
     "metadata": {},
     "output_type": "execute_result"
    }
   ],
   "source": [
    "triads_time"
   ]
  },
  {
   "cell_type": "code",
   "execution_count": 46,
   "metadata": {},
   "outputs": [
    {
     "name": "stdout",
     "output_type": "stream",
     "text": [
      "3.0\n"
     ]
    }
   ],
   "source": [
    "print(6/2)"
   ]
  },
  {
   "cell_type": "code",
   "execution_count": 50,
   "metadata": {},
   "outputs": [
    {
     "name": "stdout",
     "output_type": "stream",
     "text": [
      "3\n"
     ]
    }
   ],
   "source": [
    "print(math.floor(6/2))"
   ]
  },
  {
   "cell_type": "code",
   "execution_count": null,
   "metadata": {},
   "outputs": [],
   "source": []
  }
 ],
 "metadata": {
  "kernelspec": {
   "display_name": "Python 3",
   "language": "python",
   "name": "python3"
  },
  "language_info": {
   "codemirror_mode": {
    "name": "ipython",
    "version": 3
   },
   "file_extension": ".py",
   "mimetype": "text/x-python",
   "name": "python",
   "nbconvert_exporter": "python",
   "pygments_lexer": "ipython3",
   "version": "3.7.6"
  }
 },
 "nbformat": 4,
 "nbformat_minor": 4
}
