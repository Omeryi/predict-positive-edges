{
 "cells": [
  {
   "cell_type": "code",
   "execution_count": null,
   "metadata": {},
   "outputs": [],
   "source": [
    "# %load graph.py\n",
    "import networkx as nx \n",
    "import matplotlib.pyplot as plt\n",
    "\n",
    "def build_graph(tsv):\n",
    "    graph = nx.DiGraph()\n",
    "    tsv_file = open(tsv, \"r\")\n",
    "    lines = tsv_file.readlines()[:50]\n",
    "    # First line contains tsv headers\n",
    "    for line in lines[1:]:\n",
    "        edge_details = line.strip().split('\\t')\n",
    "        graph.add_edge(edge_details[0], edge_details[1], weight = edge_details[2])\n",
    "        \n",
    "    return graph\n",
    "\n",
    "\n",
    "def draw_graph(graph):\n",
    "    pos = nx.spring_layout(graph)   \n",
    "    plt.figure(30,figsize=(30,30)) \n",
    "    nx.draw(graph, pos, node_size = 1500, font_size = 10 , with_labels = True)   \n",
    "    nx.draw_networkx_edge_labels(graph,pos, edge_labels=nx.get_edge_attributes(graph,'weight'))\n",
    "\n",
    "\n",
    "if __name__ == \"__main__\":\n",
    "    graph = build_graph(\"./datasets/soc-sign-epinions.tsv\")\n",
    "    draw_graph(graph)\n"
   ]
  },
  {
   "cell_type": "code",
   "execution_count": null,
   "metadata": {},
   "outputs": [],
   "source": []
  },
  {
   "cell_type": "code",
   "execution_count": null,
   "metadata": {},
   "outputs": [],
   "source": [
    "graph = build_graph(\"./datasets/soc-sign-epinions.tsv\")\n",
    "def calculate_features(graph):\n",
    "    calculate_degrees(graph)\n",
    "    calculate_triads(graph)\n",
    "\n",
    "def calculate_triads(graph):\n",
    "    pass\n",
    "\n",
    "def calculate_degrees(graph):\n",
    "    nodes_dict = {}\n",
    "    nodes_dict.keys = all nodes \n",
    "    value => positive_in = 0 negative_in = 0  positive_out = 0 negative_out = 0 \n",
    "    for (u,v) in graph.edges():\n",
    "        if edge.weight == 1:\n",
    "            dict.u.positive_out +=1\n",
    "            dict.v.positive_in += 1\n",
    "        else:\n",
    "            dict.u.negative_out +=1\n",
    "            dict.v.negative_in += 1\n",
    "            \n",
    "            "
   ]
  },
  {
   "cell_type": "code",
   "execution_count": null,
   "metadata": {},
   "outputs": [],
   "source": []
  },
  {
   "cell_type": "code",
   "execution_count": null,
   "metadata": {},
   "outputs": [],
   "source": []
  },
  {
   "cell_type": "code",
   "execution_count": null,
   "metadata": {},
   "outputs": [],
   "source": []
  }
 ],
 "metadata": {
  "kernelspec": {
   "display_name": "Python 3",
   "language": "python",
   "name": "python3"
  },
  "language_info": {
   "codemirror_mode": {
    "name": "ipython",
    "version": 3
   },
   "file_extension": ".py",
   "mimetype": "text/x-python",
   "name": "python",
   "nbconvert_exporter": "python",
   "pygments_lexer": "ipython3",
   "version": "3.7.6"
  }
 },
 "nbformat": 4,
 "nbformat_minor": 4
}
