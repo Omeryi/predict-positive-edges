{
 "cells": [
  {
   "cell_type": "code",
   "execution_count": null,
   "metadata": {},
   "outputs": [],
   "source": [
    "import csv\n",
    "import collections"
   ]
  },
  {
   "cell_type": "code",
   "execution_count": null,
   "metadata": {},
   "outputs": [],
   "source": [
    "def tokenize_wiki():\n",
    "    wiki_file = open(\"./datasets/wikiElec.ElecBs3.txt\", encoding=\"latin-1\")\n",
    "    lines = wiki_file.readlines()\n",
    "    \n",
    "    res = []\n",
    "    current = []\n",
    "    for line in lines:\n",
    "        if line.startswith(\"#\"):\n",
    "            continue\n",
    "        if line != \"\\n\":\n",
    "            current.append(line.strip().split('\\t'))\n",
    "        else:\n",
    "            res.append(current)\n",
    "            current = []\n",
    "    if current:\n",
    "        res.append(current)\n",
    "    return res\n",
    "\n",
    "def normalize_wiki():\n",
    "    raw_votes = tokenize_wiki()\n",
    "    res = collections.defaultdict(lambda: collections.defaultdict(lambda: 0))\n",
    "    for vote_entries in raw_votes:\n",
    "        voted_user = vote_entries[2][1]\n",
    "        for vote_result in [l for l in vote_entries if l[0] == \"V\"]:\n",
    "            voter_id = vote_result[2]\n",
    "            choice = vote_result[1]\n",
    "            res[voter_id][voted_user] += int(choice)\n",
    "            if res[voter_id][voted_user] > 1:\n",
    "                print(voter_id, voted_user)\n",
    "    return res\n",
    "\n",
    "def write_wiki_file(normalized_wiki):\n",
    "    with open('./datasets/wiki.tsv', 'w') as csvfile:\n",
    "        fieldnames = ['FromNodeId', 'ToNodeId', 'Sign']\n",
    "        writer = csv.DictWriter(csvfile, delimiter=\"\\t\", fieldnames=fieldnames)\n",
    "\n",
    "        writer.writeheader()\n",
    "        \n",
    "        for voter_id, voter_votes in normalized_wiki.items():\n",
    "            for voted_user, aggregated_choice in voter_votes.items():\n",
    "                if aggregated_choice == 0:\n",
    "                    continue\n",
    "                writer.writerow({'FromNodeId': voter_id, 'ToNodeId': voted_user, 'Sign': 1 if aggregated_choice > 0 else -1})\n",
    "\n",
    "    "
   ]
  },
  {
   "cell_type": "code",
   "execution_count": null,
   "metadata": {
    "jupyter": {
     "outputs_hidden": true
    }
   },
   "outputs": [],
   "source": [
    "normalized = normalize_wiki()\n",
    "write_wiki_file(normalized)"
   ]
  },
  {
   "cell_type": "code",
   "execution_count": null,
   "metadata": {},
   "outputs": [],
   "source": []
  }
 ],
 "metadata": {
  "kernelspec": {
   "display_name": "Python 3",
   "language": "python",
   "name": "python3"
  },
  "language_info": {
   "codemirror_mode": {
    "name": "ipython",
    "version": 3
   },
   "file_extension": ".py",
   "mimetype": "text/x-python",
   "name": "python",
   "nbconvert_exporter": "python",
   "pygments_lexer": "ipython3",
   "version": "3.7.6"
  }
 },
 "nbformat": 4,
 "nbformat_minor": 4
}
